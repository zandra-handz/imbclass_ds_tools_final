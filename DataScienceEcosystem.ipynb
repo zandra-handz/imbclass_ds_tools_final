{
 "cells": [
  {
   "cell_type": "markdown",
   "id": "03983788-7377-4397-b5ae-5d307126ec4f",
   "metadata": {},
   "source": [
    "<h1>Data Science Tools and Ecosystem</h1>"
   ]
  },
  {
   "cell_type": "markdown",
   "id": "4392e112-fb9c-45a6-b57d-9b5ccf94550b",
   "metadata": {},
   "source": [
    "<p>In this notebook, Data Science Tools and Ecosystem are summarized.</p>"
   ]
  },
  {
   "cell_type": "markdown",
   "id": "70202386-e92d-4c20-83be-8961bd6931ac",
   "metadata": {},
   "source": [
    "<h4>Some of the popular languages that Data Scientists use are:</h4>\n",
    "<ol>\n",
    "    <li>SQL</li>\n",
    "    <li>Python</li>\n",
    "    <li>R</li>\n",
    "</ol>\n"
   ]
  },
  {
   "cell_type": "markdown",
   "id": "7e12710b-d069-47d6-9100-ee2c3040bf2e",
   "metadata": {},
   "source": [
    "<h4>Some of the popular libraries that Data Scientists use are:</h4>\n",
    "<ol>\n",
    "    <li>Pandas</li>\n",
    "    <li>NumPy</li>\n",
    "    <li>Matplotlib</li>\n",
    "    <li>PyTorch</li>\n",
    "</ol>\n"
   ]
  },
  {
   "cell_type": "markdown",
   "id": "78261c38-24d6-4870-a2cc-cc90ac6b4385",
   "metadata": {
    "tags": []
   },
   "source": [
    "#### Data Science Tools\n",
    "\n",
    "<table align=\"left\">\n",
    "  <tr>\n",
    "    <td>Jupyter Notebook</td>\n",
    "  </tr>\n",
    "  <tr>\n",
    "    <td>Apache Spark</td>\n",
    "  </tr>\n",
    "  <tr>\n",
    "    <td>Tableau</td>\n",
    "  </tr>\n",
    "</table>\n"
   ]
  },
  {
   "cell_type": "markdown",
   "id": "3b23ef75-627b-420e-815c-5fa27f2a43d2",
   "metadata": {
    "tags": []
   },
   "source": [
    "<h3>Below are a few examples of evaluating arithmetic expressions in Python</h3>"
   ]
  },
  {
   "cell_type": "code",
   "execution_count": 2,
   "id": "ab5b846e-0357-4911-972f-397d2955307f",
   "metadata": {
    "tags": []
   },
   "outputs": [
    {
     "data": {
      "text/plain": [
       "17"
      ]
     },
     "execution_count": 2,
     "metadata": {},
     "output_type": "execute_result"
    }
   ],
   "source": [
    "# This a simple arithmetic expression to mutiply then add integers\n",
    "(3*4)+5"
   ]
  },
  {
   "cell_type": "code",
   "execution_count": null,
   "id": "1cd41cca-b270-47b5-869c-240d9c3a1b5d",
   "metadata": {},
   "outputs": [],
   "source": []
  }
 ],
 "metadata": {
  "kernelspec": {
   "display_name": "Python",
   "language": "python",
   "name": "conda-env-python-py"
  },
  "language_info": {
   "codemirror_mode": {
    "name": "ipython",
    "version": 3
   },
   "file_extension": ".py",
   "mimetype": "text/x-python",
   "name": "python",
   "nbconvert_exporter": "python",
   "pygments_lexer": "ipython3",
   "version": "3.7.12"
  }
 },
 "nbformat": 4,
 "nbformat_minor": 5
}
